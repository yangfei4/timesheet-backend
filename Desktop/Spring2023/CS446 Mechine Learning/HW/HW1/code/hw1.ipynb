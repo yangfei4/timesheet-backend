{
 "cells": [
  {
   "cell_type": "code",
   "execution_count": 10,
   "metadata": {},
   "outputs": [],
   "source": [
    "import torch\n",
    "import hw1_utils\n",
    "\n",
    "\n",
    "def k_means(X=None, init_c=None, n_iters=50):\n",
    "    \"\"\"K-Means.\n",
    "\n",
    "    Argument:\n",
    "        X: 2D data points, shape [2, N].\n",
    "        init_c: initial centroids, shape [2, 2]. Each column is a centroid.\n",
    "    \n",
    "    Return:\n",
    "        c: shape [2, 2]. Each column is a centroid.\n",
    "    \"\"\"\n",
    "\n",
    "    if X is None:\n",
    "        X, init_c = hw1_utils.load_data()\n",
    "    c1, x1 = init_c[:,:1], X[:,:10]\n",
    "    c2, x2 = init_c[:,1:], X[:,10:]\n",
    "    \n",
    "    cluster_lables = []\n",
    "    uk = [[c1,c2]]\n",
    "    labels = [torch.tensor([0]*10+[1]*10)]\n",
    "    costs = []\n",
    "    for iter in range(n_iters):\n",
    "        # print(f\"Iteration {iter}\")\n",
    "        distances = torch.sum((X.unsqueeze(1)-init_c.unsqueeze(2))**2, dim=0)\n",
    "        cluster_lables = torch.argmin(distances, dim=0)\n",
    "        # print(\"clusters = \", cluster_lables)\n",
    "        \n",
    "\n",
    "        cur_uk = []\n",
    "        cost = 0\n",
    "        for i in range(2):\n",
    "            N = list(cluster_lables).count(i)\n",
    "            u = torch.zeros(1,2)\n",
    "            for index in range(20):\n",
    "                if cluster_lables[index]==i:\n",
    "                    cost += distances[i][index]*0.5\n",
    "                    u += X[:, index]\n",
    "            u = u/N\n",
    "            cur_uk.append(u.reshape(2,1))\n",
    "        costs.append(cost)\n",
    "        init_c = torch.cat((cur_uk[0], cur_uk[1]), dim=1)  \n",
    "        if cur_uk[0].tolist() == uk[-1][0].tolist() and cur_uk[1].tolist() == uk[-1][1].tolist():\n",
    "            break\n",
    "        \n",
    "        labels.append(cluster_lables)\n",
    "        uk.append(cur_uk)\n",
    "    print(\"uk = \", uk)\n",
    "    print(\"cost = \", costs)\n",
    "    print(\"labels = \", labels)\n",
    "    return torch.cat((uk[-1][0], uk[-1][1]), dim=1), uk, costs, labels"
   ]
  },
  {
   "cell_type": "code",
   "execution_count": 11,
   "metadata": {},
   "outputs": [
    {
     "name": "stdout",
     "output_type": "stream",
     "text": [
      "uk =  [[tensor([[2.],\n",
      "        [2.]]), tensor([[-2.],\n",
      "        [-2.]])], [tensor([[0.2911],\n",
      "        [0.1694]]), tensor([[-0.5545],\n",
      "        [-0.0518]])], [tensor([[ 1.9163],\n",
      "        [-1.9143]]), tensor([[-2.0952],\n",
      "        [ 2.0540]])]]\n",
      "cost =  [tensor(143.2423), tensor(73.5160), tensor(4.5600)]\n",
      "labels =  [tensor([0, 0, 0, 0, 0, 0, 0, 0, 0, 0, 1, 1, 1, 1, 1, 1, 1, 1, 1, 1]), tensor([0, 1, 1, 1, 0, 0, 1, 0, 0, 0, 0, 1, 0, 1, 0, 1, 1, 0, 1, 0]), tensor([0, 0, 0, 0, 0, 0, 0, 0, 0, 0, 1, 1, 1, 1, 1, 1, 1, 1, 1, 1])]\n"
     ]
    }
   ],
   "source": [
    "X, init_c = hw1_utils.load_data()\n",
    "# c = k_means(X, init_c)\n",
    "c,uk,costs,labels = k_means()\n",
    "# print(\"final centers = \",c)\n",
    "# print(c.reshape(2,2,1))"
   ]
  },
  {
   "cell_type": "code",
   "execution_count": 17,
   "metadata": {},
   "outputs": [
    {
     "data": {
      "image/png": "[encoded data removed]",
      "text/plain": [
       "<Figure size 432x288 with 1 Axes>"
      ]
     },
     "metadata": {
      "needs_background": "light"
     },
     "output_type": "display_data"
    },
    {
     "data": {
      "image/png": "[encoded data removed]",
      "text/plain": [
       "<Figure size 432x288 with 1 Axes>"
      ]
     },
     "metadata": {
      "needs_background": "light"
     },
     "output_type": "display_data"
    },
    {
     "data": {
      "image/png": "[encoded data removed]",
      "text/plain": [
       "<Figure size 432x288 with 1 Axes>"
      ]
     },
     "metadata": {
      "needs_background": "light"
     },
     "output_type": "display_data"
    }
   ],
   "source": [
    "for i in range(3):\n",
    "    mask = labels[i].to(torch.bool)\n",
    "    X1 = torch.masked_select(X, mask)\n",
    "    size1 = int(list(X1.shape)[0]/2)\n",
    "    X1 = X1.reshape(2,size1)\n",
    "\n",
    "\n",
    "    X2 = torch.masked_select(X, ~mask)\n",
    "    size2 = int(list(X2.shape)[0]/2)\n",
    "    X2 = X2.reshape(2,size2)\n",
    "    hw1_utils.vis_cluster(uk[i][0], X1, uk[i][1], X2, i+1)"
   ]
  },
  {
   "cell_type": "code",
   "execution_count": 103,
   "metadata": {},
   "outputs": [
    {
     "name": "stdout",
     "output_type": "stream",
     "text": [
      "tensor([[ 1.2372,  1.6249,  1.6730,  1.1953,  2.4328,  2.1222,  1.6685,  2.4037,\n",
      "          2.2196,  2.5856, -1.9005, -1.9771, -1.9235, -2.2378, -1.8924, -2.2621,\n",
      "         -2.9017, -2.6542, -1.7734, -1.4289],\n",
      "        [-1.1163, -2.0477, -1.9694, -2.3089, -2.3990, -2.0658, -2.3992, -1.8321,\n",
      "         -1.8623, -1.1418,  2.1243,  1.1123,  2.5587,  2.1491,  2.0549,  1.6768,\n",
      "          2.2143,  2.7380,  1.1066,  2.8052]])\n",
      "tensor([1, 1, 1, 1, 1, 1, 1, 1, 1, 1, 1, 1, 1, 1, 1, 1, 1, 1, 1, 1])\n",
      "tensor([[ 1.2372,  1.6249,  1.6730,  1.1953,  2.4328,  2.1222,  1.6685,  2.4037,\n",
      "          2.2196,  2.5856, -1.9005, -1.9771, -1.9235, -2.2378, -1.8924, -2.2621,\n",
      "         -2.9017, -2.6542, -1.7734, -1.4289],\n",
      "        [-1.1163, -2.0477, -1.9694, -2.3089, -2.3990, -2.0658, -2.3992, -1.8321,\n",
      "         -1.8623, -1.1418,  2.1243,  1.1123,  2.5587,  2.1491,  2.0549,  1.6768,\n",
      "          2.2143,  2.7380,  1.1066,  2.8052]])\n",
      "tensor([-0.1789,  0.1398])\n"
     ]
    }
   ],
   "source": [
    "X, init_c = hw1_utils.load_data()\n",
    "c1 = init_c[:,:1]\n",
    "labels = [1]*20\n",
    "labels = torch.tensor(labels)\n",
    "print(X)\n",
    "print(labels)\n",
    "print(X*labels)\n",
    "print(torch.sum(X*labels, dim=1))\n"
   ]
  },
  {
   "cell_type": "code",
   "execution_count": 20,
   "metadata": {},
   "outputs": [
    {
     "name": "stdout",
     "output_type": "stream",
     "text": [
      "torch.Size([3, 2])\n",
      "torch.Size([3, 2, 1])\n"
     ]
    }
   ],
   "source": [
    "t = torch.randn(3,2)\n",
    "print(t.shape)\n",
    "print(t.unsqueeze(dim=2).shape)"
   ]
  },
  {
   "cell_type": "code",
   "execution_count": 91,
   "metadata": {},
   "outputs": [
    {
     "name": "stdout",
     "output_type": "stream",
     "text": [
      "tensor([[ 1.2372,  1.6249,  1.6730,  1.1953,  2.4328,  2.1222,  1.6685,  2.4037,\n",
      "          2.2196,  2.5856, -1.9005, -1.9771, -1.9235, -2.2378, -1.8924, -2.2621,\n",
      "         -2.9017, -2.6542, -1.7734, -1.4289],\n",
      "        [-1.1163, -2.0477, -1.9694, -2.3089, -2.3990, -2.0658, -2.3992, -1.8321,\n",
      "         -1.8623, -1.1418,  2.1243,  1.1123,  2.5587,  2.1491,  2.0549,  1.6768,\n",
      "          2.2143,  2.7380,  1.1066,  2.8052]])\n",
      "tensor([[ 2., -2.],\n",
      "        [ 2., -2.]])\n",
      "torch.Size([2, 1, 20])\n",
      "torch.Size([2, 2, 1])\n",
      "torch.Size([2, 2, 20])\n",
      "tensor([[10.2931, 16.5244, 15.8632, 19.2140, 19.5389, 16.5458, 19.4630, 14.8482,\n",
      "         14.9658, 10.2141, 15.2291, 16.6057, 15.7061, 17.9815, 15.1539, 18.2699,\n",
      "         24.0724, 22.2059, 15.0366, 12.4058],\n",
      "        [11.2604, 13.1421, 13.4919, 10.3051, 19.8094, 16.9969, 13.6176, 19.4203,\n",
      "         17.8237, 21.7642, 17.0198,  9.6869, 20.7874, 17.2713, 16.4541, 13.5878,\n",
      "         18.5731, 22.8769,  9.7021, 23.4157]])\n",
      "tensor([0, 1, 1, 1, 0, 0, 1, 0, 0, 0, 0, 1, 0, 1, 0, 1, 1, 0, 1, 0])\n"
     ]
    }
   ],
   "source": [
    "X, init_c = hw1_utils.load_data()\n",
    "\n",
    "\n",
    "c1, x1 = init_c[:,:1], X[:,:10]\n",
    "c2, x2 = init_c[:,1:], X[:,10:]\n",
    "\n",
    "c = torch.cat((c1, c2), dim=1)\n",
    "\n",
    "print(X)\n",
    "print(c)\n",
    "print(X.unsqueeze(1).shape)\n",
    "print(c.unsqueeze(2).shape)\n",
    "# print(c)\n",
    "# (X.unsqueeze(2)-c.unsqueeze(1)).shape\n",
    "print((X.unsqueeze(1)-c.unsqueeze(2)).shape)\n",
    "# torch.sum((X.unsqueeze(1)-c.unsqueeze(2))**2, dim=1)\n",
    "distances = torch.sum((X.unsqueeze(1)-c.unsqueeze(2))**2, dim=0)\n",
    "labels = torch.argmin(distances, dim=0)\n",
    "print(distances)\n",
    "print(labels)\n",
    "\n"
   ]
  },
  {
   "cell_type": "code",
   "execution_count": 12,
   "metadata": {},
   "outputs": [
    {
     "data": {
      "image/png": "[encoded data removed]",
      "text/plain": [
       "<Figure size 432x288 with 1 Axes>"
      ]
     },
     "metadata": {
      "needs_background": "light"
     },
     "output_type": "display_data"
    }
   ],
   "source": [
    "hw1_utils.vis_cluster(init_c[:,:1], X[:,:10], init_c[:,1:], X[:,10:],0)"
   ]
  }
 ],
 "metadata": {
  "kernelspec": {
   "display_name": "base",
   "language": "python",
   "name": "python3"
  },
  "language_info": {
   "codemirror_mode": {
    "name": "ipython",
    "version": 3
   },
   "file_extension": ".py",
   "mimetype": "text/x-python",
   "name": "python",
   "nbconvert_exporter": "python",
   "pygments_lexer": "ipython3",
   "version": "3.8.8"
  },
  "orig_nbformat": 4,
  "vscode": {
   "interpreter": {
    "hash": "40d3a090f54c6569ab1632332b64b2c03c39dcf918b08424e98f38b5ae0af88f"
   }
  }
 },
 "nbformat": 4,
 "nbformat_minor": 2
}
